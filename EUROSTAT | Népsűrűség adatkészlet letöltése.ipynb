{
 "cells": [
  {
   "cell_type": "markdown",
   "id": "ccaa626c",
   "metadata": {},
   "source": [
    "# EUROSTAT | Népsűrűség adatkészlet letöltése\n",
    "---\n",
    "Az **Eurostat**, *Population Density*, vagyis a népsűrűség nevű adatkészletét fogjuk letölteni. \n",
    "\n",
    "Ehhez szükségünk lesz a következő könyvtárakra:\n",
    "\n",
    "- Pandas\n",
    "- Pandasdmx\n",
    "\n",
    "Amennyiben nincsenek telepítve, akkor a **`pip install pandas`** és a **`pip install pandasdmx`** parancsal kell kezdenünk."
   ]
  },
  {
   "cell_type": "code",
   "execution_count": 1,
   "id": "78d45b3b-82f7-4d7e-9964-bab95a32edd0",
   "metadata": {},
   "outputs": [
    {
     "name": "stdout",
     "output_type": "stream",
     "text": [
      "Requirement already satisfied: pandas in /home/bagozoltan/my-jupyter-env/lib/python3.11/site-packages (2.2.2)\n",
      "Requirement already satisfied: numpy>=1.23.2 in /home/bagozoltan/my-jupyter-env/lib/python3.11/site-packages (from pandas) (1.26.4)\n",
      "Requirement already satisfied: python-dateutil>=2.8.2 in /home/bagozoltan/my-jupyter-env/lib/python3.11/site-packages (from pandas) (2.9.0.post0)\n",
      "Requirement already satisfied: pytz>=2020.1 in /home/bagozoltan/my-jupyter-env/lib/python3.11/site-packages (from pandas) (2024.1)\n",
      "Requirement already satisfied: tzdata>=2022.7 in /home/bagozoltan/my-jupyter-env/lib/python3.11/site-packages (from pandas) (2024.1)\n",
      "Requirement already satisfied: six>=1.5 in /home/bagozoltan/my-jupyter-env/lib/python3.11/site-packages (from python-dateutil>=2.8.2->pandas) (1.16.0)\n",
      "Note: you may need to restart the kernel to use updated packages.\n"
     ]
    }
   ],
   "source": [
    "pip install pandas"
   ]
  },
  {
   "cell_type": "code",
   "execution_count": 2,
   "id": "df4217e3-178c-48d2-b17b-5b8cc2d93ce9",
   "metadata": {},
   "outputs": [
    {
     "name": "stdout",
     "output_type": "stream",
     "text": [
      "Requirement already satisfied: pandasdmx in /home/bagozoltan/my-jupyter-env/lib/python3.11/site-packages (1.10.0)\n",
      "Requirement already satisfied: requests>=2.15 in /home/bagozoltan/my-jupyter-env/lib/python3.11/site-packages (from pandasdmx) (2.31.0)\n",
      "Requirement already satisfied: lxml>=4.1 in /home/bagozoltan/my-jupyter-env/lib/python3.11/site-packages (from pandasdmx) (6.0.0)\n",
      "Requirement already satisfied: pandas>=1.2 in /home/bagozoltan/my-jupyter-env/lib/python3.11/site-packages (from pandasdmx) (2.2.2)\n",
      "Requirement already satisfied: pydantic<2.0,>=1.9.2 in /home/bagozoltan/my-jupyter-env/lib/python3.11/site-packages (from pandasdmx) (1.10.22)\n",
      "Requirement already satisfied: typing-extensions>=4.2.0 in /home/bagozoltan/my-jupyter-env/lib/python3.11/site-packages (from pydantic<2.0,>=1.9.2->pandasdmx) (4.11.0)\n",
      "Requirement already satisfied: numpy>=1.23.2 in /home/bagozoltan/my-jupyter-env/lib/python3.11/site-packages (from pandas>=1.2->pandasdmx) (1.26.4)\n",
      "Requirement already satisfied: python-dateutil>=2.8.2 in /home/bagozoltan/my-jupyter-env/lib/python3.11/site-packages (from pandas>=1.2->pandasdmx) (2.9.0.post0)\n",
      "Requirement already satisfied: pytz>=2020.1 in /home/bagozoltan/my-jupyter-env/lib/python3.11/site-packages (from pandas>=1.2->pandasdmx) (2024.1)\n",
      "Requirement already satisfied: tzdata>=2022.7 in /home/bagozoltan/my-jupyter-env/lib/python3.11/site-packages (from pandas>=1.2->pandasdmx) (2024.1)\n",
      "Requirement already satisfied: six>=1.5 in /home/bagozoltan/my-jupyter-env/lib/python3.11/site-packages (from python-dateutil>=2.8.2->pandas>=1.2->pandasdmx) (1.16.0)\n",
      "Requirement already satisfied: charset-normalizer<4,>=2 in /home/bagozoltan/my-jupyter-env/lib/python3.11/site-packages (from requests>=2.15->pandasdmx) (3.3.2)\n",
      "Requirement already satisfied: idna<4,>=2.5 in /home/bagozoltan/my-jupyter-env/lib/python3.11/site-packages (from requests>=2.15->pandasdmx) (3.7)\n",
      "Requirement already satisfied: urllib3<3,>=1.21.1 in /home/bagozoltan/my-jupyter-env/lib/python3.11/site-packages (from requests>=2.15->pandasdmx) (2.2.1)\n",
      "Requirement already satisfied: certifi>=2017.4.17 in /home/bagozoltan/my-jupyter-env/lib/python3.11/site-packages (from requests>=2.15->pandasdmx) (2024.2.2)\n",
      "Note: you may need to restart the kernel to use updated packages.\n"
     ]
    }
   ],
   "source": [
    "pip install pandasdmx"
   ]
  },
  {
   "cell_type": "markdown",
   "id": "90e80f1c",
   "metadata": {},
   "source": [
    "## 1. Az adatkészlet megkeresése az Eurostat oldalán\n",
    "---\n",
    "Keressük meg az **Eurostat** oldalán a *Popular Density* nevű adatkészletet:\n",
    "\n",
    "https://ec.europa.eu/eurostat/databrowser/view/tps00003/default/table?lang=en&category=t_demo.t_demo_ind    \n",
    "    \n",
    "*\"Ratio between the annual average population and the land area. The land area concept (excluding inland waters, such as lakes, wide rivers, estuaries) should be used wherever available; if not available, then the total area (including inland waters) is used.\"*    \n",
    "\n",
    "„Az éves átlagos népesség és a szárazföldi terület aránya. A szárazföldi terület fogalmát (a belvizek, például tavak, széles folyók, torkolatok nélkül) kell használni, ahol lehetséges; ha nem áll rendelkezésre, akkor a teljes területet (a belvizekkel együtt) kell használni.”\n",
    "\n",
    "(Forrás: Eurostat)\n",
    "\n",
    "---   \n",
    "Az adatkészlet kódja, ami számunkra fontos:      \n",
    "\n",
    "- tps00003\n",
    "    \n",
    "Ez a kód az **`Online data code: tps00003`** az adatkészlet fejlécében található, de az URL címben is benne van a view és a default között. "
   ]
  },
  {
   "cell_type": "markdown",
   "id": "3e41d90a",
   "metadata": {},
   "source": [
    "## 2. A Pandas és a Pandasdmx könyvtárak importálása\n",
    "---"
   ]
  },
  {
   "cell_type": "code",
   "execution_count": 3,
   "id": "3fcd9a62",
   "metadata": {},
   "outputs": [
    {
     "name": "stderr",
     "output_type": "stream",
     "text": [
      "/home/bagozoltan/my-jupyter-env/lib/python3.11/site-packages/pandasdmx/remote.py:11: RuntimeWarning: optional dependency requests_cache is not installed; cache options to Session() have no effect\n",
      "  warn(\n"
     ]
    }
   ],
   "source": [
    "# Szükséges könyvtárak importálása\n",
    "import pandas as pd\n",
    "import pandasdmx as sdmx"
   ]
  },
  {
   "cell_type": "markdown",
   "id": "3830a2ea",
   "metadata": {},
   "source": [
    "## 3. Csatlakozás az Eurostat API-hoz\n",
    "---\n",
    "Az első lépésben létrehozzuk a kapcsolatot az Eurostat szerverével. \n",
    "\n",
    "Ehhez szükséges az **`estat = sdmx.Request('ESTAT')`** változó. \n",
    "\n",
    "Amennyiben valamilyen hiba történik, akkor a hibaüzenet meg fog jelenni. "
   ]
  },
  {
   "cell_type": "code",
   "execution_count": 4,
   "id": "4de422d0",
   "metadata": {},
   "outputs": [],
   "source": [
    "# Csatlakozunk az Eurostat API-hoz:\n",
    "try:\n",
    "    estat = sdmx.Request('ESTAT')\n",
    "\n",
    "except Exception as e:\n",
    "    print(f\"Hiba történt a csatlakozás során: {e}\")\n",
    "    exit()"
   ]
  },
  {
   "cell_type": "markdown",
   "id": "326a872a",
   "metadata": {},
   "source": [
    "## 4. Az Eurostat adatkészlet kódjának alkalmazása\n",
    "---\n",
    "- Létrehozunk egy változót, esetünkben a **`database_code = 'tps00003'`**, amely tartalmazza az adatkészlet kódját. Ezt az adatkészletet akarjuk letölteni.  \n",
    "\n",
    "- A **`data_response = estat.data(resource_id=database_code)`** változó segítségével egy kérést intézünk a szerverhez.\n",
    "\n",
    "- Mivel a kért adatok SDMX formátumban vannak, ezért a **`data = data_response.to_pandas()`** változó átalakítja nekünk pandas DataFrame-be. Az SDMX, vagyis Statistical Data and Metadata eXchange szabvány támogatja a statisztikai adatok és metaadatok cseréjét, leírását és megosztását.\n",
    "\n",
    "- A **`print(data.head())`** megmutatja a Dataframe első 5 sorát. \n",
    "\n",
    "- Végül a **`data.to_csv(output_filename, index=True)`** elmenti a DataFramet egy csv fájlba."
   ]
  },
  {
   "cell_type": "code",
   "execution_count": 5,
   "id": "2dbb6dd9",
   "metadata": {},
   "outputs": [
    {
     "name": "stdout",
     "output_type": "stream",
     "text": [
      "Letöltés indítása: tps00003...\n",
      "\n",
      "Sikeresen letöltött adatok:\n",
      "geo  unit     freq  TIME_PERIOD\n",
      "AL   PER_KM2  A     2012           100.7\n",
      "                    2013           100.6\n",
      "                    2014           100.4\n",
      "                    2015           100.1\n",
      "                    2016            99.9\n",
      "Name: value, dtype: float64\n",
      "\n",
      "Az adatok elmentve a(z) 'tps00003_data.csv' fájlba.\n"
     ]
    }
   ],
   "source": [
    "#Az adatkészletünk kódja, a tps00003, ezt szeretnénk letölteni az Eurostat-ról:\n",
    "database_code = 'tps00003'\n",
    "\n",
    "print(f\"Letöltés indítása: {database_code}...\")\n",
    "\n",
    "try:\n",
    "    # Az adatok lekérdezése:\n",
    "    data_response = estat.data(resource_id=database_code)\n",
    "    \n",
    "    # Pandas dataframe formába konvertáljuk:\n",
    "    data = data_response.to_pandas()\n",
    "    \n",
    "    # Az adatok megjelenítése:\n",
    "    print(\"\\nSikeresen letöltött adatok:\")\n",
    "    \n",
    "    # Az első 5 sor kiírása:\n",
    "    print(data.head())\n",
    "    \n",
    "    # Az adatok mentése csv fájlba:\n",
    "    output_filename = f\"{database_code}_data.csv\"\n",
    "    data.to_csv(output_filename, index=True)\n",
    "    \n",
    "    print(f\"\\nAz adatok elmentve a(z) '{output_filename}' fájlba.\")\n",
    "    \n",
    "except Exception as e:\n",
    "    print(f\"Hiba történt az adatok letöltése vagy feldolgozása során: {e}\")"
   ]
  },
  {
   "cell_type": "markdown",
   "id": "cd6cd2a9",
   "metadata": {},
   "source": [
    "## 5. A kimenet\n",
    "---\n",
    "Ha mindent jól csináltunk, akkor a következő kimenetnek kell megjelennie:\n",
    "\n",
    "    Letöltés indítása: tps00003...\n",
    "\n",
    "    Sikeresen letöltött adatok:\n",
    "    geo  unit     freq  TIME_PERIOD\n",
    "    AL   PER_KM2  A     2012           100.7\n",
    "                    2013           100.6\n",
    "                    2014           100.4\n",
    "                    2015           100.1\n",
    "                    2016            99.9\n",
    "    Name: value, dtype: float64\n",
    "\n",
    "    Az adatok elmentve a(z) 'tps00003_data.csv' fájlba.\n",
    "    \n",
    "A végén egy csv fájlt kell kapnunk, amely 6 oszlopból és 442 sorból áll.  \n",
    "\n",
    "---"
   ]
  },
  {
   "cell_type": "code",
   "execution_count": null,
   "id": "b7f16399",
   "metadata": {},
   "outputs": [],
   "source": []
  }
 ],
 "metadata": {
  "kernelspec": {
   "display_name": "Python 3 (ipykernel)",
   "language": "python",
   "name": "python3"
  },
  "language_info": {
   "codemirror_mode": {
    "name": "ipython",
    "version": 3
   },
   "file_extension": ".py",
   "mimetype": "text/x-python",
   "name": "python",
   "nbconvert_exporter": "python",
   "pygments_lexer": "ipython3",
   "version": "3.11.2"
  }
 },
 "nbformat": 4,
 "nbformat_minor": 5
}
