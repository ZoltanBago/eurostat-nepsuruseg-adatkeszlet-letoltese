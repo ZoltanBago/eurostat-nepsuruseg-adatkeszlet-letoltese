{
 "cells": [
  {
   "cell_type": "markdown",
   "id": "df1c21c5",
   "metadata": {},
   "source": [
    "# EUROSTAT | Population density\n",
    "---\n",
    "Az **Eurostat**, *Population Density*, vagyis a népsűrűség nevű adatbázisát fogjuk letölteni. \n",
    "\n",
    "Ehhez szükségünk lesz a következő könyvtárakra:\n",
    "\n",
    "- Pandas\n",
    "- Pandasdmx\n",
    "\n",
    "Amennyiben nincsenek telepítve, akkor a **`pip install pandas`** és a **`pip install pandasdmx`** parancsal kell kezdenünk."
   ]
  },
  {
   "cell_type": "code",
   "execution_count": null,
   "id": "78d45b3b-82f7-4d7e-9964-bab95a32edd0",
   "metadata": {},
   "outputs": [],
   "source": [
    "pip install pandas"
   ]
  },
  {
   "cell_type": "code",
   "execution_count": null,
   "id": "df4217e3-178c-48d2-b17b-5b8cc2d93ce9",
   "metadata": {},
   "outputs": [],
   "source": [
    "pip install pandasdmx"
   ]
  },
  {
   "cell_type": "markdown",
   "id": "abe104cb",
   "metadata": {},
   "source": [
    "## 1. Az adatbázis megkeresése az Eurostat oldalán\n",
    "---\n",
    "Keressük meg az **Eurostat** oldalán a *Popular Density* nevű adatbázist:\n",
    "\n",
    "https://ec.europa.eu/eurostat/databrowser/view/tps00003/default/table?lang=en&category=t_demo.t_demo_ind    \n",
    "    \n",
    "*\"Ratio between the annual average population and the land area. The land area concept (excluding inland waters, such as lakes, wide rivers, estuaries) should be used wherever available; if not available, then the total area (including inland waters) is used.\"*    \n",
    "\n",
    "„Az éves átlagos népesség és a szárazföldi terület aránya. A szárazföldi terület fogalmát (a belvizek, például tavak, széles folyók, torkolatok nélkül) kell használni, ahol lehetséges; ha nem áll rendelkezésre, akkor a teljes területet (a belvizekkel együtt) kell használni.”\n",
    "   \n",
    "Az adatbázis kódja a számunkra fontos:      \n",
    "\n",
    "- tps00003\n",
    "    \n",
    "Ez a kód az **`Online data code: tps00003`** az adatbázis fejlécében található, de az URL címben is benne van a view és a default között. "
   ]
  },
  {
   "cell_type": "markdown",
   "id": "fb9c2de9",
   "metadata": {},
   "source": [
    "## 2. A Pandas és a Pandasdmx könyvtárak importálása\n",
    "---"
   ]
  },
  {
   "cell_type": "code",
   "execution_count": null,
   "id": "aeea0e64",
   "metadata": {},
   "outputs": [],
   "source": [
    "# Szükséges könyvtárak importálása\n",
    "import pandas as pd\n",
    "import pandasdmx as sdmx"
   ]
  },
  {
   "cell_type": "markdown",
   "id": "ca1e0d4c",
   "metadata": {},
   "source": [
    "## 3. Csatlakozás az Eurostat API-hoz\n",
    "---\n",
    "Az első lépésben létrehozzuk a kapcsolatot az Eurostat szerverével. \n",
    "\n",
    "Ehhez szükséges az **`estat = sdmx.Request('ESTAT')`** változó. \n",
    "\n",
    "Amennyiben valamilyen hiba történik, akkor a hibaüzenet meg fog jelenni. "
   ]
  },
  {
   "cell_type": "code",
   "execution_count": null,
   "id": "13e1e5d3",
   "metadata": {},
   "outputs": [],
   "source": [
    "# Csatlakozunk az Eurostat API-hoz:\n",
    "try:\n",
    "    estat = sdmx.Request('ESTAT')\n",
    "\n",
    "except Exception as e:\n",
    "    print(f\"Hiba történt a csatlakozás során: {e}\")\n",
    "    exit()"
   ]
  },
  {
   "cell_type": "markdown",
   "id": "c2f952a8",
   "metadata": {},
   "source": [
    "## 4. Az Eurostat adatbázis kód alkalmazása\n",
    "---\n",
    "1. Létrehozunk egy változót, esetünkben a **`database_code = 'tps00003'`**, amely tartalmazza az adatbázis kódját. Ezt az adatbázist akarjuk letölteni.  \n",
    "\n",
    "2. A **`data_response = estat.data(resource_id=database_code)`** változó segítségével egy kérést intézünk a szerverhez.\n",
    "\n",
    "3. Mivel a kért adatok SDMX formátumban vannak, ezért a **`data = data_response.to_pandas()`** változó átalakítja nekünk pandas DataFrame-be. \n",
    "\n",
    "4. A **`print(data.head())`** megmutatja a Dataframe első 5 sorát. \n",
    "\n",
    "5. Végül a **`data.to_csv(output_filename, index=True)`** elmenti a DataFramet egy csv fájlba."
   ]
  },
  {
   "cell_type": "code",
   "execution_count": null,
   "id": "8e5aaaa2",
   "metadata": {},
   "outputs": [],
   "source": [
    "#Az adatbázisunk kódja, a tps00003, ezt szeretnénk letölteni az Eurostat-ról:\n",
    "database_code = 'tps00003'\n",
    "\n",
    "print(f\"Letöltés indítása: {database_code}...\")\n",
    "\n",
    "try:\n",
    "    # Az adatok lekérdezése:\n",
    "    data_response = estat.data(resource_id=database_code)\n",
    "    \n",
    "    # Pandas dataframe formába konvertáljuk:\n",
    "    data = data_response.to_pandas()\n",
    "    \n",
    "    # Az adatok megjelenítése:\n",
    "    print(\"\\nSikeresen letöltött adatok:\")\n",
    "    \n",
    "    # Az első 5 sor kiírása:\n",
    "    print(data.head())\n",
    "    \n",
    "    # Az adatok mentése csv fájlba:\n",
    "    output_filename = f\"{database_code}_data.csv\"\n",
    "    data.to_csv(output_filename, index=True)\n",
    "    \n",
    "    print(f\"\\nAz adatok elmentve a(z) '{output_filename}' fájlba.\")\n",
    "    \n",
    "except Exception as e:\n",
    "    print(f\"Hiba történt az adatok letöltése vagy feldolgozása során: {e}\")"
   ]
  },
  {
   "cell_type": "markdown",
   "id": "640d82db",
   "metadata": {},
   "source": [
    "## 5. A kimenet\n",
    "---\n",
    "Ha mindent jól csináltunk, akkor a következő kimenetnek kell megjelennie:\n",
    "\n",
    "    Letöltés indítása: tps00003...\n",
    "\n",
    "    Sikeresen letöltött adatok:\n",
    "    geo  unit     freq  TIME_PERIOD\n",
    "    AL   PER_KM2  A     2012           100.7\n",
    "                    2013           100.6\n",
    "                    2014           100.4\n",
    "                    2015           100.1\n",
    "                    2016            99.9\n",
    "    Name: value, dtype: float64\n",
    "\n",
    "    Az adatok elmentve a(z) 'tps00003_data.csv' fájlba.\n",
    "    \n",
    "A végén egy csv fájlt kell kapnunk, amely 6 oszlopból és 442 sorból áll.  \n",
    "\n",
    "---"
   ]
  },
  {
   "cell_type": "code",
   "execution_count": null,
   "id": "f71e4900",
   "metadata": {},
   "outputs": [],
   "source": []
  }
 ],
 "metadata": {
  "kernelspec": {
   "display_name": "Python 3 (ipykernel)",
   "language": "python",
   "name": "python3"
  },
  "language_info": {
   "codemirror_mode": {
    "name": "ipython",
    "version": 3
   },
   "file_extension": ".py",
   "mimetype": "text/x-python",
   "name": "python",
   "nbconvert_exporter": "python",
   "pygments_lexer": "ipython3",
   "version": "3.11.2"
  }
 },
 "nbformat": 4,
 "nbformat_minor": 5
}
